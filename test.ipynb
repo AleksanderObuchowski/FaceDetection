{
 "cells": [
  {
   "cell_type": "code",
   "execution_count": 7,
   "metadata": {},
   "outputs": [],
   "source": [
    "import requests"
   ]
  },
  {
   "cell_type": "code",
   "execution_count": 8,
   "metadata": {},
   "outputs": [],
   "source": [
    "example_file = \"data/Brad Pitt/002_cc1b9701.jpg\""
   ]
  },
  {
   "cell_type": "code",
   "execution_count": 13,
   "metadata": {},
   "outputs": [
    {
     "name": "stdout",
     "output_type": "stream",
     "text": [
      "{'filename': '002_cc1b9701.jpg'}\n"
     ]
    }
   ],
   "source": [
    "with open(example_file, \"rb\") as f:\n",
    "    response = requests.post(\n",
    "        \"http://127.0.0.1:8000/add_face\",\n",
    "        files={\"file\": f},\n",
    "    )\n",
    "    print(response.json())"
   ]
  },
  {
   "cell_type": "code",
   "execution_count": 33,
   "metadata": {},
   "outputs": [
    {
     "name": "stdout",
     "output_type": "stream",
     "text": [
      "<Response [500]>\n"
     ]
    }
   ],
   "source": [
    "with open(example_file, \"rb\") as f:\n",
    "    response = requests.post(\n",
    "        \"http://127.0.0.1:8000/detect\",\n",
    "        files={\"file\": f},\n",
    "    )\n",
    "    print(response)"
   ]
  },
  {
   "cell_type": "code",
   "execution_count": 20,
   "metadata": {},
   "outputs": [],
   "source": [
    "backends = [\n",
    "  'opencv', \n",
    "  'ssd', \n",
    "  'dlib', \n",
    "  'mtcnn', \n",
    "  'fastmtcnn',\n",
    "  'retinaface', \n",
    "  'mediapipe',\n",
    "  'yolov8',\n",
    "  'yunet',\n",
    "  'centerface',\n",
    "]\n",
    "\n",
    "from deepface import DeepFace\n",
    "\n",
    "face_objs = DeepFace.extract_faces(\n",
    "  img_path = example_file, \n",
    "  detector_backend = backends[4],\n",
    ")"
   ]
  },
  {
   "cell_type": "code",
   "execution_count": 29,
   "metadata": {},
   "outputs": [
    {
     "data": {
      "text/plain": [
       "array([[[0.60392157, 0.46666667, 0.39215686],\n",
       "        [0.54901961, 0.41960784, 0.35294118],\n",
       "        [0.46666667, 0.3372549 , 0.27058824],\n",
       "        ...,\n",
       "        [0.17647059, 0.16862745, 0.17254902],\n",
       "        [0.16862745, 0.16078431, 0.16470588],\n",
       "        [0.14901961, 0.14117647, 0.14509804]],\n",
       "\n",
       "       [[0.61960784, 0.49019608, 0.41568627],\n",
       "        [0.50196078, 0.37254902, 0.30588235],\n",
       "        [0.58431373, 0.45490196, 0.38823529],\n",
       "        ...,\n",
       "        [0.18039216, 0.17254902, 0.17647059],\n",
       "        [0.2627451 , 0.25490196, 0.25882353],\n",
       "        [0.12941176, 0.12156863, 0.1254902 ]],\n",
       "\n",
       "       [[0.62745098, 0.49803922, 0.42352941],\n",
       "        [0.61176471, 0.48235294, 0.41568627],\n",
       "        [0.5372549 , 0.41568627, 0.34509804],\n",
       "        ...,\n",
       "        [0.15294118, 0.14901961, 0.14117647],\n",
       "        [0.19215686, 0.18823529, 0.18039216],\n",
       "        [0.12156863, 0.11764706, 0.10980392]],\n",
       "\n",
       "       ...,\n",
       "\n",
       "       [[1.        , 1.        , 1.        ],\n",
       "        [1.        , 1.        , 1.        ],\n",
       "        [1.        , 1.        , 1.        ],\n",
       "        ...,\n",
       "        [0.32941176, 0.17254902, 0.1254902 ],\n",
       "        [0.4745098 , 0.33333333, 0.27843137],\n",
       "        [0.52156863, 0.38823529, 0.34117647]],\n",
       "\n",
       "       [[0.99607843, 1.        , 1.        ],\n",
       "        [0.99607843, 1.        , 1.        ],\n",
       "        [0.99607843, 1.        , 1.        ],\n",
       "        ...,\n",
       "        [0.39215686, 0.24313725, 0.19215686],\n",
       "        [0.48627451, 0.34509804, 0.29019608],\n",
       "        [0.4745098 , 0.34901961, 0.29803922]],\n",
       "\n",
       "       [[0.98823529, 1.        , 1.        ],\n",
       "        [0.98823529, 1.        , 1.        ],\n",
       "        [0.99607843, 1.        , 1.        ],\n",
       "        ...,\n",
       "        [0.48627451, 0.34509804, 0.29019608],\n",
       "        [0.45098039, 0.3254902 , 0.2745098 ],\n",
       "        [0.38039216, 0.2627451 , 0.21960784]]])"
      ]
     },
     "execution_count": 29,
     "metadata": {},
     "output_type": "execute_result"
    }
   ],
   "source": [
    "face_objs[0][\"face\"]"
   ]
  },
  {
   "cell_type": "code",
   "execution_count": null,
   "metadata": {},
   "outputs": [],
   "source": []
  }
 ],
 "metadata": {
  "kernelspec": {
   "display_name": ".venv",
   "language": "python",
   "name": "python3"
  },
  "language_info": {
   "codemirror_mode": {
    "name": "ipython",
    "version": 3
   },
   "file_extension": ".py",
   "mimetype": "text/x-python",
   "name": "python",
   "nbconvert_exporter": "python",
   "pygments_lexer": "ipython3",
   "version": "3.10.10"
  }
 },
 "nbformat": 4,
 "nbformat_minor": 2
}
